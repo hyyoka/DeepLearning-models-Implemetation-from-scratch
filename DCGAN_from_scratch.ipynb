{
  "nbformat": 4,
  "nbformat_minor": 0,
  "metadata": {
    "colab": {
      "name": "DCGAN from scratch.ipynb",
      "provenance": [],
      "collapsed_sections": []
    },
    "kernelspec": {
      "name": "python3",
      "display_name": "Python 3"
    },
    "language_info": {
      "name": "python"
    },
    "accelerator": "GPU"
  },
  "cells": [
    {
      "cell_type": "markdown",
      "metadata": {
        "id": "lqHSUXBAp2DQ"
      },
      "source": [
        "# DCGAN from scratch\n",
        "@hyyoka"
      ]
    },
    {
      "cell_type": "markdown",
      "metadata": {
        "id": "zW6ONB7fqANg"
      },
      "source": [
        "## 드라이브 연결"
      ]
    },
    {
      "cell_type": "code",
      "metadata": {
        "id": "8sl5iSXfj9Et",
        "colab": {
          "base_uri": "https://localhost:8080/"
        },
        "outputId": "f9aa2d30-714f-4355-a5ad-871b19d734e9"
      },
      "source": [
        "# gdrive에 mount\n",
        "from google.colab import drive\n",
        "drive.mount('/content/gdrive')\n",
        "# 경로 설정\n",
        "import os\n",
        "os.chdir('/content/gdrive/My Drive/')"
      ],
      "execution_count": null,
      "outputs": [
        {
          "output_type": "stream",
          "text": [
            "Mounted at /content/gdrive\n"
          ],
          "name": "stdout"
        }
      ]
    },
    {
      "cell_type": "markdown",
      "metadata": {
        "id": "XlrC-8uBqFbK"
      },
      "source": [
        "## 패키지 임포트"
      ]
    },
    {
      "cell_type": "code",
      "metadata": {
        "id": "1jXGcTmgk4sf"
      },
      "source": [
        "%matplotlib inline\n",
        "from matplotlib import pyplot as plt\n",
        "import random\n",
        "import torch\n",
        "import torch.nn as nn\n",
        "import torch.optim as optim\n",
        "import torch.utils.data\n",
        "import torchvision.datasets as dset\n",
        "import torchvision.transforms as transforms"
      ],
      "execution_count": null,
      "outputs": []
    },
    {
      "cell_type": "markdown",
      "metadata": {
        "id": "mS080UbJqKMQ"
      },
      "source": [
        "## MNIST 데이터 불러오기\n",
        "기존의 MNIST 손글씨 데이터의 경우 1x28x28 이미지 -> dcgan 모델 적용을 위해 1x64x64 이미지로 크기 조절 (물론 28x28이미지도 사용가능하지만 네트워크 구조 수정 필요)  \n",
        "처음 데이터를 사용할때는 download=True로 데이터를 다운 받기  \n",
        "이후에 사용할때는 데이터가 이미 다운되있으므로 download=False로 바꿔서 사용"
      ]
    },
    {
      "cell_type": "code",
      "metadata": {
        "id": "4kg3Cy9kk55K"
      },
      "source": [
        "# MNIST dataset\n",
        "dataroot = './mnist_data/'\n",
        "imageSize = 64 # the height / width of the input image to network\n",
        "\n",
        "dataset = dset.MNIST(root = dataroot, download= True,\n",
        "                     transform = transforms.Compose([\n",
        "                                                     transforms.Resize(imageSize), #이미지 64x64로 크기 변환\n",
        "                                                     transforms.ToTensor(), #텐서자료형으로 변환\n",
        "                                                     transforms.Normalize((0.5,), (0.5,)), #노말라이즈를 통해 -1.~1.의 값을 갖게 변환\n",
        "                     ]))"
      ],
      "execution_count": null,
      "outputs": []
    },
    {
      "cell_type": "markdown",
      "metadata": {
        "id": "cBqDKK5Qp1En"
      },
      "source": [
        "### 데이터 확인하기"
      ]
    },
    {
      "cell_type": "code",
      "metadata": {
        "id": "JZoKpxaKoIh8",
        "colab": {
          "base_uri": "https://localhost:8080/"
        },
        "outputId": "248eb573-c9e2-41d2-a131-d9ec8f38294b"
      },
      "source": [
        "print('number of training data: ', len(dataset)) #데이터 수 확인\n",
        "image,_ = dataset[0]\n",
        "\n",
        "print('Image')\n",
        "print('========================================')\n",
        "print('shape of this image\\t:', image.shape) #데이터 차원(모양)확인하기"
      ],
      "execution_count": null,
      "outputs": [
        {
          "output_type": "stream",
          "text": [
            "number of training data:  60000\n",
            "Image\n",
            "========================================\n",
            "shape of this image\t: torch.Size([1, 64, 64])\n"
          ],
          "name": "stdout"
        }
      ]
    },
    {
      "cell_type": "code",
      "metadata": {
        "id": "AvL1QHLgoJLs",
        "colab": {
          "base_uri": "https://localhost:8080/",
          "height": 211
        },
        "outputId": "bbc465c3-25a7-4158-ddbf-bf403337cad3"
      },
      "source": [
        "# 학습 데이터 시각화\n",
        "fig = plt.figure()\n",
        "\n",
        "for i in range(10):\n",
        "    image,_ = dataset[i]\n",
        "    image = (image+1)/2\n",
        "    image = image.squeeze()\n",
        "    np_img = image.numpy()\n",
        "    \n",
        "    subplot = fig.add_subplot(2, 5, i+1)\n",
        "    subplot.set_xticks([])\n",
        "    subplot.set_yticks([])\n",
        "    subplot.imshow(np_img, cmap = 'gray')\n",
        "\n",
        "plt.show()"
      ],
      "execution_count": null,
      "outputs": [
        {
          "output_type": "display_data",
          "data": {
            "image/png": "[encoded data removed]",
            "text/plain": [
              "<Figure size 432x288 with 10 Axes>"
            ]
          },
          "metadata": {
            "tags": []
          }
        }
      ]
    },
    {
      "cell_type": "markdown",
      "metadata": {
        "id": "GV1hsEW7r7lH"
      },
      "source": [
        "### 데이터 로더 정의"
      ]
    },
    {
      "cell_type": "code",
      "metadata": {
        "id": "dk1AQgq3r60l"
      },
      "source": [
        "# dataloader\n",
        "batch_size = 128\n",
        "workers = -1 # 최대한 많게 설정!\n",
        "\n",
        "dataloader = torch.utils.data.DataLoader(dataset, batch_size=batch_size,\n",
        "                                         shuffle = True, num_workers = workers)"
      ],
      "execution_count": null,
      "outputs": []
    },
    {
      "cell_type": "markdown",
      "metadata": {
        "id": "50srPc9CsrUW"
      },
      "source": [
        "## device 정의"
      ]
    },
    {
      "cell_type": "code",
      "metadata": {
        "id": "_1bDrz7ZsvOq",
        "colab": {
          "base_uri": "https://localhost:8080/"
        },
        "outputId": "7e956a3b-5e78-4d7a-e86f-5af00c5deb19"
      },
      "source": [
        "# device\n",
        "device = torch.device(\"cuda:0\" if torch.cuda.is_available() else \"cpu\")\n",
        "print(device)"
      ],
      "execution_count": null,
      "outputs": [
        {
          "output_type": "stream",
          "text": [
            "cuda:0\n"
          ],
          "name": "stdout"
        }
      ]
    },
    {
      "cell_type": "markdown",
      "metadata": {
        "id": "FF2wxeW7s8hf"
      },
      "source": [
        "## 신경망 "
      ]
    },
    {
      "cell_type": "code",
      "metadata": {
        "id": "VMoPm64ltmiq"
      },
      "source": [
        "#네트워크 하이퍼파라미터 설정\n",
        "nc = 1 # number of color channels == image.size(0), 흑백이면 1/컬러면 3:rgb\n",
        "nz = 100 #Size of z latent vector (size of generator input)\n",
        "ngf = 64 # size of feature maps in generator\n",
        "ndf = 64 # size of feature maps in discriminator"
      ],
      "execution_count": null,
      "outputs": []
    },
    {
      "cell_type": "markdown",
      "metadata": {
        "id": "CY2ffq8WtDkb"
      },
      "source": [
        "### 신경망 가중치 초기화 함수 정의\n",
        "신경망의 가중치 초기화 방법에 대해 논문에 자세히 나와있습니다.  \n",
        "다음 사이트는 파이토치에서 가중치 초기화에 관련된 글 입니다  \n",
        "https://www.javaer101.com/ko/article/1010427.html"
      ]
    },
    {
      "cell_type": "code",
      "metadata": {
        "id": "PuRj6bngtBpr"
      },
      "source": [
        "def weights_init(m):\n",
        "    classname = m.__class__.__name__\n",
        "    if classname.find('Conv') != -1:\n",
        "        nn.init.normal_(m.weight.data, 0.0, 0.02)\n",
        "    elif classname.find('BatchNorm') != -1:\n",
        "        nn.init.normal_(m.weight.data, 1.0, 0.02)\n",
        "        nn.init.constant_(m.bias.data, 0)"
      ],
      "execution_count": null,
      "outputs": []
    },
    {
      "cell_type": "markdown",
      "metadata": {
        "id": "KIzdwP6Otb4Q"
      },
      "source": [
        "### 생성자 클래스\n",
        "\n",
        "trasposed convolution 관련 자료: https://yonghyuc.wordpress.com/2019/08/08/transposed-convolutions-aka-deconvolution/"
      ]
    },
    {
      "cell_type": "code",
      "metadata": {
        "id": "uWkHRbFvtbFg"
      },
      "source": [
        "# creating a RGB image with the same size as the training images\n",
        "class Generator(nn.Module):\n",
        "    def __init__(self):\n",
        "        super(Generator, self).__init__()\n",
        "        self.main = nn.Sequential(\n",
        "            # a series of strided two dimensional convolutional transpose layers\n",
        "            # first\n",
        "            nn.ConvTranspose2d(nz, ngf*8, 4, 1, 0, bias=False),\n",
        "            nn.BatchNorm2d(ngf*8),\n",
        "            nn.ReLU(True),\n",
        "            # second\n",
        "            nn.ConvTranspose2d(ngf*8, ngf*4, 4, 2, 1, bias=False),\n",
        "            nn.BatchNorm2d(ngf*4),\n",
        "            nn.ReLU(True),\n",
        "            # thrid\n",
        "            nn.ConvTranspose2d(ngf*4, ngf * 2, 4, 2, 1, bias=False),\n",
        "            nn.BatchNorm2d(ngf*2),\n",
        "            nn.ReLU(True),\n",
        "            # fourth\n",
        "            nn.ConvTranspose2d(ngf*2, ngf, 4, 2, 1, bias=False),\n",
        "            nn.BatchNorm2d(ngf),\n",
        "            nn.ReLU(True),\n",
        "            # final summary\n",
        "            nn.ConvTranspose2d(ngf, nc, 4, 2, 1, bias=False),\n",
        "            nn.Tanh()\n",
        "            # output_size:  (nc) x 64 x 64\n",
        "        )\n",
        "\n",
        "    def forward(self, input):\n",
        "        return self.main(input)"
      ],
      "execution_count": null,
      "outputs": []
    },
    {
      "cell_type": "code",
      "metadata": {
        "id": "8MFp5nD_uOFn",
        "colab": {
          "base_uri": "https://localhost:8080/"
        },
        "outputId": "ee444fef-a548-446f-8309-80b821b80412"
      },
      "source": [
        "netG = Generator().to(device) # 생성자 객체 생성\n",
        "netG.apply(weights_init) # 위의 정의한 함수로 가중치 초기화\n",
        "\n",
        "# 생성자 출력\n",
        "print(netG)"
      ],
      "execution_count": null,
      "outputs": [
        {
          "output_type": "stream",
          "text": [
            "Generator(\n",
            "  (main): Sequential(\n",
            "    (0): ConvTranspose2d(100, 512, kernel_size=(4, 4), stride=(1, 1), bias=False)\n",
            "    (1): BatchNorm2d(512, eps=1e-05, momentum=0.1, affine=True, track_running_stats=True)\n",
            "    (2): ReLU(inplace=True)\n",
            "    (3): ConvTranspose2d(512, 256, kernel_size=(4, 4), stride=(2, 2), padding=(1, 1), bias=False)\n",
            "    (4): BatchNorm2d(256, eps=1e-05, momentum=0.1, affine=True, track_running_stats=True)\n",
            "    (5): ReLU(inplace=True)\n",
            "    (6): ConvTranspose2d(256, 128, kernel_size=(4, 4), stride=(2, 2), padding=(1, 1), bias=False)\n",
            "    (7): BatchNorm2d(128, eps=1e-05, momentum=0.1, affine=True, track_running_stats=True)\n",
            "    (8): ReLU(inplace=True)\n",
            "    (9): ConvTranspose2d(128, 64, kernel_size=(4, 4), stride=(2, 2), padding=(1, 1), bias=False)\n",
            "    (10): BatchNorm2d(64, eps=1e-05, momentum=0.1, affine=True, track_running_stats=True)\n",
            "    (11): ReLU(inplace=True)\n",
            "    (12): ConvTranspose2d(64, 1, kernel_size=(4, 4), stride=(2, 2), padding=(1, 1), bias=False)\n",
            "    (13): Tanh()\n",
            "  )\n",
            ")\n"
          ],
          "name": "stdout"
        }
      ]
    },
    {
      "cell_type": "markdown",
      "metadata": {
        "id": "YKnrGeQJu5IC"
      },
      "source": [
        "### 판별자 클래스"
      ]
    },
    {
      "cell_type": "code",
      "metadata": {
        "id": "gPOn7rHEu4Zw"
      },
      "source": [
        "class Discriminator(nn.Module):\n",
        "    def __init__(self):\n",
        "        super(Discriminator, self).__init__()\n",
        "\n",
        "        # a series of Conv2d, BatchNorm2d, LeakyReLU layers\n",
        "        # input_size: (nc) x 64 x 64\n",
        "        self.main = nn.Sequential(\n",
        "            # first\n",
        "            nn.Conv2d(nc, ndf, 4, 2, 1, bias=False),\n",
        "            nn.LeakyReLU(0.2, inplace=True),\n",
        "            #  second\n",
        "            nn.Conv2d(ndf, ndf * 2, 4, 2, 1, bias=False),\n",
        "            nn.BatchNorm2d(ndf * 2),\n",
        "            nn.LeakyReLU(0.2, inplace=True),\n",
        "            # thrid\n",
        "            nn.Conv2d(ndf * 2, ndf * 4, 4, 2, 1, bias=False),\n",
        "            nn.BatchNorm2d(ndf * 4),\n",
        "            nn.LeakyReLU(0.2, inplace=True),\n",
        "            # fourth\n",
        "            nn.Conv2d(ndf * 4, ndf * 8, 4, 2, 1, bias=False),\n",
        "            nn.BatchNorm2d(ndf * 8),\n",
        "            nn.LeakyReLU(0.2, inplace=True),\n",
        "            # final\n",
        "            nn.Conv2d(ndf * 8, 1, 4, 1, 0, bias=False),\n",
        "            # outputs the final probability\n",
        "            nn.Sigmoid()\n",
        "        )\n",
        "    def forward(self, input):\n",
        "        return self.main(input)"
      ],
      "execution_count": null,
      "outputs": []
    },
    {
      "cell_type": "code",
      "metadata": {
        "id": "bNznWbGevHnk",
        "colab": {
          "base_uri": "https://localhost:8080/"
        },
        "outputId": "c47c21b4-3cde-4e1b-ae45-4444314e5aa8"
      },
      "source": [
        "netD = Discriminator().to(device) # 생성자 객체 생성\n",
        "netD.apply(weights_init) # 위의 정의한 함수로 가중치 초기화\n",
        "\n",
        "# 판별자 출력\n",
        "print(netD)"
      ],
      "execution_count": null,
      "outputs": [
        {
          "output_type": "stream",
          "text": [
            "Discriminator(\n",
            "  (main): Sequential(\n",
            "    (0): Conv2d(1, 64, kernel_size=(4, 4), stride=(2, 2), padding=(1, 1), bias=False)\n",
            "    (1): LeakyReLU(negative_slope=0.2, inplace=True)\n",
            "    (2): Conv2d(64, 128, kernel_size=(4, 4), stride=(2, 2), padding=(1, 1), bias=False)\n",
            "    (3): BatchNorm2d(128, eps=1e-05, momentum=0.1, affine=True, track_running_stats=True)\n",
            "    (4): LeakyReLU(negative_slope=0.2, inplace=True)\n",
            "    (5): Conv2d(128, 256, kernel_size=(4, 4), stride=(2, 2), padding=(1, 1), bias=False)\n",
            "    (6): BatchNorm2d(256, eps=1e-05, momentum=0.1, affine=True, track_running_stats=True)\n",
            "    (7): LeakyReLU(negative_slope=0.2, inplace=True)\n",
            "    (8): Conv2d(256, 512, kernel_size=(4, 4), stride=(2, 2), padding=(1, 1), bias=False)\n",
            "    (9): BatchNorm2d(512, eps=1e-05, momentum=0.1, affine=True, track_running_stats=True)\n",
            "    (10): LeakyReLU(negative_slope=0.2, inplace=True)\n",
            "    (11): Conv2d(512, 1, kernel_size=(4, 4), stride=(1, 1), bias=False)\n",
            "    (12): Sigmoid()\n",
            "  )\n",
            ")\n"
          ],
          "name": "stdout"
        }
      ]
    },
    {
      "cell_type": "markdown",
      "metadata": {
        "id": "pO6E3WcLvaca"
      },
      "source": [
        "## Loss Function & Optimizer"
      ]
    },
    {
      "cell_type": "code",
      "metadata": {
        "id": "q3zo8MjNvT9r"
      },
      "source": [
        "# 손실함수\n",
        "criterion = nn.BCELoss()\n",
        "\n",
        "real_label = 1.\n",
        "fake_label = 0.\n",
        "\n",
        "# optimizer hyperparameters\n",
        "learning_rate =  0.0002\n",
        "\n",
        "# Beta1 hyperparam for Adam optimizers\n",
        "beta1 = 0.5\n",
        "\n",
        "# Setup Adam optimizers for both G and D\n",
        "optimizerD = optim.Adam(netD.parameters(), lr=learning_rate, betas=(beta1, 0.999))\n",
        "optimizerG = optim.Adam(netG.parameters(), lr=learning_rate, betas=(beta1, 0.999))"
      ],
      "execution_count": null,
      "outputs": []
    },
    {
      "cell_type": "markdown",
      "metadata": {
        "id": "EzI4vYfzxF_k"
      },
      "source": [
        "## Train\n",
        "\"빈칸\"을 채우고, 각각의 변수 및 메소드가 무엇을 나태는지 혹은 어떻게 계산되는지를 주석으로 설명 부탁드립니다.  \n",
        "참고하면 좋은 사이트: https://redstarhong.tistory.com/64"
      ]
    },
    {
      "cell_type": "code",
      "metadata": {
        "id": "zommtabuxHkC",
        "colab": {
          "base_uri": "https://localhost:8080/"
        },
        "outputId": "b4c65b2d-317a-4577-c4fc-aa38d7777daa"
      },
      "source": [
        "num_epochs = 5\n",
        "G_losses = []\n",
        "D_losses = []\n",
        "\n",
        "for epoch in range(num_epochs):\n",
        "    for i, data in enumerate(dataloader, 0):\n",
        "\n",
        "        #### (1) Train the Discriminator ###\n",
        "        # maximize log(D(x)) + log(1 - D(G(z)))\n",
        "\n",
        "        netD.zero_grad() # 기울기 초기화\n",
        "        \n",
        "        ## (1-1) construct a batch of real samples and forward, backward pass\n",
        "        real_cpu = data[0].to(device) # real sample batch\n",
        "        b_size = real_cpu.size(0) # 배치 사이즈!\n",
        "        label = torch.full((b_size,), real_label, dtype=torch.float, device=device) # from real sample이라는 label\n",
        "        # Forward pass\n",
        "        output = netD(real_cpu).view(-1)\n",
        "        # loss\n",
        "        errD_real = criterion(output, label)\n",
        "        # Backward pass\n",
        "        errD_real.backward()\n",
        "        D_x = output.mean().item()\n",
        "\n",
        "        ## (1-2) construct a batch of fake samples with the current generator\n",
        "        # Generate batch of latent vectors\n",
        "        noise = torch.randn(b_size, nz, 1, 1, device=device)\n",
        "        # Generate fake image batch with G\n",
        "        fake = netG(noise)\n",
        "        label.fill_(fake_label) # Generator가 만든 fake 이미지: label 0\n",
        "        \n",
        "        # fake에 대한 판별자 학습\n",
        "        # Forward pass\n",
        "        output = netD(fake.detach()).view(-1)\n",
        "        # loss\n",
        "        errD_fake = criterion(output, label)\n",
        "        # Backward pass\n",
        "        errD_fake.backward()\n",
        "        D_G_z1 = output.mean().item()\n",
        "\n",
        "         # Add the gradients from the all-real and all-fake batches\n",
        "        errD = errD_real + errD_fake\n",
        "        # Update D\n",
        "        optimizerD.step()\n",
        "\n",
        "        ### (2) Train the Generator ###\n",
        "        # maximize log(D(G(z)))\n",
        "\n",
        "        netG.zero_grad()\n",
        "        label.fill_(real_label) \n",
        "        output = netD(fake).view(-1) # 새로 학습된 판별자에 대한 현재 생성자의 성능 \n",
        "        # 생성자는 이 결과값들을 real label과 최대한 가까워지게 하고 싶음\n",
        "        errG = criterion(output, label)\n",
        "        errG.backward()\n",
        "        D_G_z2 = output.mean().item()\n",
        "        # Update G\n",
        "        optimizerG.step()\n",
        "        \n",
        "        # 학습 경과 출력\n",
        "        if i % 50 == 0:\n",
        "            print('[%d/%d][%d/%d]\\tLoss_D: %.4f\\tLoss_G: %.4f\\tD(x): %.4f\\tD(G(z)): %.4f / %.4f'\n",
        "            % (epoch, num_epochs, i, len(dataloader),\n",
        "                errD.item(), errG.item(), D_x, D_G_z1, D_G_z2))\n",
        "        # Save Losses for plotting later\n",
        "        G_losses.append(errG.item())\n",
        "        D_losses.append(errD.item())"
      ],
      "execution_count": null,
      "outputs": [
        {
          "output_type": "stream",
          "text": [
            "[0/5][0/469]\tLoss_D: 1.8334\tLoss_G: 8.1699\tD(x): 0.3789\tD(G(z)): 0.4596 / 0.0005\n",
            "[0/5][50/469]\tLoss_D: 0.0599\tLoss_G: 8.5217\tD(x): 0.9624\tD(G(z)): 0.0150 / 0.0003\n",
            "[0/5][100/469]\tLoss_D: 0.0136\tLoss_G: 7.5812\tD(x): 0.9947\tD(G(z)): 0.0082 / 0.0007\n",
            "[0/5][150/469]\tLoss_D: 0.0072\tLoss_G: 7.7010\tD(x): 0.9997\tD(G(z)): 0.0069 / 0.0005\n",
            "[0/5][200/469]\tLoss_D: 0.0011\tLoss_G: 8.6544\tD(x): 0.9996\tD(G(z)): 0.0007 / 0.0002\n",
            "[0/5][250/469]\tLoss_D: 0.0037\tLoss_G: 7.2207\tD(x): 0.9994\tD(G(z)): 0.0031 / 0.0008\n",
            "[0/5][300/469]\tLoss_D: 0.0022\tLoss_G: 7.4697\tD(x): 0.9994\tD(G(z)): 0.0016 / 0.0006\n",
            "[0/5][350/469]\tLoss_D: 0.0021\tLoss_G: 7.3500\tD(x): 0.9998\tD(G(z)): 0.0019 / 0.0007\n",
            "[0/5][400/469]\tLoss_D: 0.0029\tLoss_G: 7.1987\tD(x): 0.9996\tD(G(z)): 0.0025 / 0.0008\n",
            "[0/5][450/469]\tLoss_D: 0.0013\tLoss_G: 7.8664\tD(x): 0.9995\tD(G(z)): 0.0008 / 0.0004\n",
            "[1/5][0/469]\tLoss_D: 0.0008\tLoss_G: 7.9633\tD(x): 0.9998\tD(G(z)): 0.0006 / 0.0004\n",
            "[1/5][50/469]\tLoss_D: 0.0007\tLoss_G: 8.1350\tD(x): 0.9999\tD(G(z)): 0.0006 / 0.0003\n",
            "[1/5][100/469]\tLoss_D: 0.0006\tLoss_G: 7.9679\tD(x): 0.9999\tD(G(z)): 0.0006 / 0.0004\n",
            "[1/5][150/469]\tLoss_D: 0.0005\tLoss_G: 8.3073\tD(x): 0.9999\tD(G(z)): 0.0004 / 0.0003\n",
            "[1/5][200/469]\tLoss_D: 0.0004\tLoss_G: 8.4812\tD(x): 0.9999\tD(G(z)): 0.0003 / 0.0002\n",
            "[1/5][250/469]\tLoss_D: 0.0006\tLoss_G: 8.2556\tD(x): 0.9998\tD(G(z)): 0.0004 / 0.0003\n",
            "[1/5][300/469]\tLoss_D: 0.0002\tLoss_G: 9.1597\tD(x): 1.0000\tD(G(z)): 0.0001 / 0.0001\n",
            "[1/5][350/469]\tLoss_D: 0.0004\tLoss_G: 8.5378\tD(x): 0.9999\tD(G(z)): 0.0003 / 0.0002\n",
            "[1/5][400/469]\tLoss_D: 0.0002\tLoss_G: 9.3433\tD(x): 0.9999\tD(G(z)): 0.0001 / 0.0001\n",
            "[1/5][450/469]\tLoss_D: 0.0003\tLoss_G: 8.6932\tD(x): 0.9999\tD(G(z)): 0.0002 / 0.0002\n",
            "[2/5][0/469]\tLoss_D: 0.0003\tLoss_G: 8.6188\tD(x): 0.9999\tD(G(z)): 0.0002 / 0.0002\n",
            "[2/5][50/469]\tLoss_D: 0.0002\tLoss_G: 9.5081\tD(x): 0.9999\tD(G(z)): 0.0001 / 0.0001\n",
            "[2/5][100/469]\tLoss_D: 0.0001\tLoss_G: 9.2183\tD(x): 1.0000\tD(G(z)): 0.0001 / 0.0001\n",
            "[2/5][150/469]\tLoss_D: 0.0002\tLoss_G: 9.2729\tD(x): 1.0000\tD(G(z)): 0.0001 / 0.0001\n",
            "[2/5][200/469]\tLoss_D: 0.0001\tLoss_G: 9.5852\tD(x): 1.0000\tD(G(z)): 0.0001 / 0.0001\n",
            "[2/5][250/469]\tLoss_D: 0.0001\tLoss_G: 9.3738\tD(x): 1.0000\tD(G(z)): 0.0001 / 0.0001\n",
            "[2/5][300/469]\tLoss_D: 0.0001\tLoss_G: 9.8408\tD(x): 1.0000\tD(G(z)): 0.0001 / 0.0001\n",
            "[2/5][350/469]\tLoss_D: 0.0001\tLoss_G: 10.1567\tD(x): 1.0000\tD(G(z)): 0.0000 / 0.0000\n",
            "[2/5][400/469]\tLoss_D: 0.0001\tLoss_G: 9.7620\tD(x): 1.0000\tD(G(z)): 0.0001 / 0.0001\n",
            "[2/5][450/469]\tLoss_D: 0.0001\tLoss_G: 10.2220\tD(x): 1.0000\tD(G(z)): 0.0000 / 0.0000\n",
            "[3/5][0/469]\tLoss_D: 0.0000\tLoss_G: 10.4332\tD(x): 1.0000\tD(G(z)): 0.0000 / 0.0000\n",
            "[3/5][50/469]\tLoss_D: 0.0001\tLoss_G: 10.6856\tD(x): 1.0000\tD(G(z)): 0.0000 / 0.0000\n",
            "[3/5][100/469]\tLoss_D: 0.0001\tLoss_G: 10.3229\tD(x): 1.0000\tD(G(z)): 0.0000 / 0.0000\n",
            "[3/5][150/469]\tLoss_D: 0.0000\tLoss_G: 10.2128\tD(x): 1.0000\tD(G(z)): 0.0000 / 0.0000\n",
            "[3/5][200/469]\tLoss_D: 0.0000\tLoss_G: 10.5828\tD(x): 1.0000\tD(G(z)): 0.0000 / 0.0000\n",
            "[3/5][250/469]\tLoss_D: 0.0000\tLoss_G: 10.7109\tD(x): 1.0000\tD(G(z)): 0.0000 / 0.0000\n",
            "[3/5][300/469]\tLoss_D: 0.0000\tLoss_G: 10.4536\tD(x): 1.0000\tD(G(z)): 0.0000 / 0.0000\n",
            "[3/5][350/469]\tLoss_D: 0.0000\tLoss_G: 10.7776\tD(x): 1.0000\tD(G(z)): 0.0000 / 0.0000\n",
            "[3/5][400/469]\tLoss_D: 0.0000\tLoss_G: 10.2325\tD(x): 1.0000\tD(G(z)): 0.0000 / 0.0000\n",
            "[3/5][450/469]\tLoss_D: 0.0000\tLoss_G: 10.6045\tD(x): 1.0000\tD(G(z)): 0.0000 / 0.0000\n",
            "[4/5][0/469]\tLoss_D: 0.0000\tLoss_G: 10.8825\tD(x): 1.0000\tD(G(z)): 0.0000 / 0.0000\n",
            "[4/5][50/469]\tLoss_D: 0.0000\tLoss_G: 10.8315\tD(x): 1.0000\tD(G(z)): 0.0000 / 0.0000\n",
            "[4/5][100/469]\tLoss_D: 0.0000\tLoss_G: 11.0155\tD(x): 1.0000\tD(G(z)): 0.0000 / 0.0000\n",
            "[4/5][150/469]\tLoss_D: 0.0000\tLoss_G: 11.1166\tD(x): 1.0000\tD(G(z)): 0.0000 / 0.0000\n",
            "[4/5][200/469]\tLoss_D: 0.0000\tLoss_G: 10.7121\tD(x): 1.0000\tD(G(z)): 0.0000 / 0.0000\n",
            "[4/5][250/469]\tLoss_D: 0.0000\tLoss_G: 11.1462\tD(x): 1.0000\tD(G(z)): 0.0000 / 0.0000\n",
            "[4/5][300/469]\tLoss_D: 0.0000\tLoss_G: 10.9477\tD(x): 1.0000\tD(G(z)): 0.0000 / 0.0000\n",
            "[4/5][350/469]\tLoss_D: 0.0000\tLoss_G: 11.0547\tD(x): 1.0000\tD(G(z)): 0.0000 / 0.0000\n",
            "[4/5][400/469]\tLoss_D: 0.0000\tLoss_G: 10.9339\tD(x): 1.0000\tD(G(z)): 0.0000 / 0.0000\n",
            "[4/5][450/469]\tLoss_D: 0.0000\tLoss_G: 11.3454\tD(x): 1.0000\tD(G(z)): 0.0000 / 0.0000\n"
          ],
          "name": "stdout"
        }
      ]
    },
    {
      "cell_type": "code",
      "metadata": {
        "colab": {
          "base_uri": "https://localhost:8080/",
          "height": 350
        },
        "id": "LoOXeWvTh21O",
        "outputId": "ad497484-98e2-4460-d855-8ec6ba466a9d"
      },
      "source": [
        "plt.figure(figsize=(10,5))\n",
        "plt.title(\"Generator and Discriminator Loss During Training\")\n",
        "plt.plot(G_losses,label=\"G\")\n",
        "plt.plot(D_losses,label=\"D\")\n",
        "plt.xlabel(\"iterations\")\n",
        "plt.ylabel(\"Loss\")\n",
        "plt.legend()\n",
        "plt.show()"
      ],
      "execution_count": null,
      "outputs": [
        {
          "output_type": "display_data",
          "data": {
            "image/png": "[encoded data removed]",
            "text/plain": [
              "<Figure size 720x360 with 1 Axes>"
            ]
          },
          "metadata": {
            "tags": [],
            "needs_background": "light"
          }
        }
      ]
    },
    {
      "cell_type": "code",
      "metadata": {
        "id": "hJClyBhxixnJ"
      },
      "source": [
        ""
      ],
      "execution_count": null,
      "outputs": []
    }
  ]
}