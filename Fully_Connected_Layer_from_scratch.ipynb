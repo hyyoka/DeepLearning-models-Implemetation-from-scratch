{
  "nbformat": 4,
  "nbformat_minor": 0,
  "metadata": {
    "colab": {
      "name": "Fully-Connected Layer from scratch.ipynb",
      "provenance": [],
      "collapsed_sections": [],
      "authorship_tag": "ABX9TyNyyU3rEfilQqqJD352IgJz",
      "include_colab_link": true
    },
    "kernelspec": {
      "name": "python3",
      "display_name": "Python 3"
    }
  },
  "cells": [
    {
      "cell_type": "markdown",
      "metadata": {
        "id": "view-in-github",
        "colab_type": "text"
      },
      "source": [
        "<a href=\"https://colab.research.google.com/github/hyyoka/DeepLearning-models-Implemetation-from-scratch/blob/main/Fully_Connected_Layer_from_scratch.ipynb\" target=\"_parent\"><img src=\"https://colab.research.google.com/assets/colab-badge.svg\" alt=\"Open In Colab\"/></a>"
      ]
    },
    {
      "cell_type": "markdown",
      "metadata": {
        "id": "mjc1llsKcol7"
      },
      "source": [
        "# Fully Connected Layer from scratch\n",
        "\n",
        "본 포스트에서는 fc layer를 numpy만을 이용해 구현하는 것을 목적으로 한다. 목차는 다음과 같다:\n",
        "- activation functions\n",
        "- Parameter initialization\n",
        "- Models\n",
        "    - Linear forward and backward\n",
        "    - Linear+activation forward and backward\n",
        "    - multi-layer forward and backward\n",
        "- Cross-Entropy loss\n"
      ]
    },
    {
      "cell_type": "code",
      "metadata": {
        "id": "6isACEeHeZFg"
      },
      "source": [
        "import numpy as np"
      ],
      "execution_count": 7,
      "outputs": []
    },
    {
      "cell_type": "markdown",
      "metadata": {
        "id": "KoI6k2VqdaNW"
      },
      "source": [
        "## Activation functions"
      ]
    },
    {
      "cell_type": "code",
      "metadata": {
        "id": "c4pXOJHwcfgD"
      },
      "source": [
        "# activation functions forward&backward\n",
        "\n",
        "def sigmoid(Z):\n",
        "    A = 1/(1+np.exp(-Z))\n",
        "    return A, Z\n",
        "def sigmoid_backward(dA, Z):\n",
        "    s = 1/(1+np.exp(-Z))\n",
        "    dZ = dA * s * (1-s)\n",
        "    #(dZ.shape == Z.shape)\n",
        "    return dZ\n",
        "\n",
        "def relu(Z):\n",
        "    A = np.maximum(0,Z)\n",
        "    #(A.shape == Z.shape)\n",
        "    return A, Z\n",
        "def relu_backward(dA, Z):\n",
        "    dZ = np.array(dA, copy=True)\n",
        "    dZ[Z <= 0] = 0\n",
        "    dZ[Z > 0] = 1\n",
        "    #(dZ.shape == Z.shape)\n",
        "    return dZ"
      ],
      "execution_count": 19,
      "outputs": []
    },
    {
      "cell_type": "markdown",
      "metadata": {
        "id": "wtjyCahxdeHE"
      },
      "source": [
        "## Parameter initialization"
      ]
    },
    {
      "cell_type": "code",
      "metadata": {
        "id": "qB1Y5PcRddAG"
      },
      "source": [
        "def initialize_parameters(layer_dims):\n",
        "    parameters = {}\n",
        "    L = len(layer_dims)\n",
        "    for l in range(1, L):\n",
        "        # W = (현재 레이어 hidden_dim, 이전 레이어 hidden_dim)\n",
        "        parameters['W' + str(l)] = np.random.randn(layer_dims[l], layer_dims[l-1]) / np.sqrt(layer_dims[l-1]) #*0.01\n",
        "        # b = (현재 레이어 hidden_dim,1)\n",
        "        parameters['b' + str(l)] = np.zeros((layer_dims[l], 1))\n",
        "    return parameters"
      ],
      "execution_count": 20,
      "outputs": []
    },
    {
      "cell_type": "markdown",
      "metadata": {
        "id": "jetcKzDQiIBt"
      },
      "source": [
        "## Model forward and backward\n"
      ]
    },
    {
      "cell_type": "markdown",
      "metadata": {
        "id": "MBznWEkifI3b"
      },
      "source": [
        "### Linear \n",
        "\n",
        "#### Linear Forward\n",
        "\n"
      ]
    },
    {
      "cell_type": "code",
      "metadata": {
        "id": "Eo_t3zCheRUI"
      },
      "source": [
        "def linear_forward(x, W, b):\n",
        "    # Wx+b\n",
        "    Z = W.dot(x) + b\n",
        "    # 사용한 값을 cache에 저장: 역전파에서 사용\n",
        "    cache = (x, W, b)\n",
        "    return Z, cache"
      ],
      "execution_count": 23,
      "outputs": []
    },
    {
      "cell_type": "markdown",
      "metadata": {
        "id": "lj8WITIBfVNB"
      },
      "source": [
        "#### Linear backward\n",
        "\n",
        "**Inputs**\n",
        "- dZ: Z의 변화량, cost function 에 대한 gradient\n",
        "- cache : forward 과정에서 필요한 값\n",
        "\n",
        "__Returns__\n",
        "\n",
        "- dX_prev : 지난 레이어의 activation 을 통과한 x의 cost function에 대한 변화량입니다.\n",
        "\n",
        "- dW : Linear 구간의 weight의 cost function에 대한 변화량 입니다.\n",
        "\n",
        "- db : Linear 구간의 bias의 cost function 에 대한 변화량 입니다.\n",
        "\n",
        "\n",
        "$$ dW^{[l]} = \\frac{\\partial \\mathcal{L} }{\\partial W^{[l]}} = \\frac{1}{m} dZ^{[l]} X^{[l-1] T} $$\n",
        "\n",
        "$$ db^{[l]} = \\frac{\\partial \\mathcal{L} }{\\partial b^{[l]}} = \\frac{1}{m} \\sum_{i = 1}^{m} dZ^{[l](i)}$$\n",
        "\n",
        "$$ dX^{[l-1]} = \\frac{\\partial \\mathcal{L} }{\\partial X^{[l-1]}} = W^{[l] T} dZ^{[l]} $$\n"
      ]
    },
    {
      "cell_type": "code",
      "metadata": {
        "id": "r6IElZs2fVhJ"
      },
      "source": [
        "def linear_backward(dZ, cache):\n",
        "    X_prev, W, b = cache\n",
        "    m = X_prev.shape[1]\n",
        "    \n",
        "    dW = np.dot(dZ,X_prev.T)/m\n",
        "    db = np.sum(dZ, axis=1, keepdims=True)/m\n",
        "    dX_prev = np.dot(W.T, dZ)\n",
        "    \n",
        "    assert (dX_prev.shape == X_prev.shape)\n",
        "    assert (dW.shape == W.shape)\n",
        "    assert (db.shape == b.shape)\n",
        "    \n",
        "    return dX_prev, dW, db"
      ],
      "execution_count": 30,
      "outputs": []
    },
    {
      "cell_type": "markdown",
      "metadata": {
        "id": "ouFNzzVSf9ZZ"
      },
      "source": [
        "### Linear-Activation \n",
        "\n",
        "#### Linear-activation forward"
      ]
    },
    {
      "cell_type": "code",
      "metadata": {
        "id": "nBaaTMjZgBNm"
      },
      "source": [
        "def linear_activation_forward(X_prev, W, b, activation):\n",
        "    \n",
        "    Z, linear_cache = linear_forward(X_prev, W, b)\n",
        "    if activation == \"relu\":\n",
        "        X, activation_cache = relu(Z)\n",
        "    elif activation == \"sigmoid\":\n",
        "        X, activation_cache = sigmoid(Z)\n",
        "    \n",
        "    assert (X.shape == (W.shape[0], X_prev.shape[1]))\n",
        "    \n",
        "    cache = (linear_cache, activation_cache)\n",
        "    return X, cache"
      ],
      "execution_count": 56,
      "outputs": []
    },
    {
      "cell_type": "markdown",
      "metadata": {
        "id": "umWOKlOtgDhm"
      },
      "source": [
        "#### Linear-activation backward\n",
        "\n",
        "$$g(.) = Activation function$$\n",
        "\n",
        "$$dZ^{[l]} = dA^{[l]} * g'(Z^{[l]})$$.  \n",
        "\n",
        "</br>\n",
        "\n",
        "__Inputs__\n",
        "\n",
        "- dA : 현재 layer의 gradient값\n",
        "\n",
        "- cache : forward pass에서 계산했던 linear(Z) 부분과 activation(A) 부분의 계산값\n",
        "\n"
      ]
    },
    {
      "cell_type": "code",
      "metadata": {
        "id": "9UbeH7WLgFxW"
      },
      "source": [
        "def linear_activation_backward(dA, cache, activation):\n",
        "    linear_cache, activation_cache = cache\n",
        "    if activation == \"relu\":\n",
        "        dZ = relu_backward(dA, activation_cache)\n",
        "    elif activation == \"sigmoid\":\n",
        "        dZ = sigmoid_backward(dA, activation_cache)\n",
        "    dA_prev, dW, db = linear_backward(dZ, linear_cache)\n",
        "    return dA_prev, dW, db"
      ],
      "execution_count": 57,
      "outputs": []
    },
    {
      "cell_type": "markdown",
      "metadata": {
        "id": "S-uqb4FygG1v"
      },
      "source": [
        "## N-layers \n",
        "\n",
        "### N-layers forward"
      ]
    },
    {
      "cell_type": "code",
      "metadata": {
        "id": "j-JqfhgFgLal"
      },
      "source": [
        "def N_layers_forward(X, parameters):\n",
        "    # N개의 레이어\n",
        "    caches = []\n",
        "    # weight와 bias가 저장 => 2로 나누어주어야한다.\n",
        "    L = len(parameters) // 2\n",
        "    for l in range(1, L):\n",
        "        X_prev = X\n",
        "        X, cache = linear_activation_forward(X_prev, parameters['W' + str(l)], parameters['b' + str(l)], activation = \"relu\")\n",
        "        caches.append(cache)\n",
        "    \n",
        "    # output layer는 sigmoid를 통과하게 한다\n",
        "    prediction, cache = linear_activation_forward(X, parameters['W' + str(L)], parameters['b' + str(L)], activation = \"sigmoid\")\n",
        "    caches.append(cache)\n",
        "    assert (prediction.shape == (1,X.shape[1]))\n",
        "    return prediction, caches"
      ],
      "execution_count": 82,
      "outputs": []
    },
    {
      "cell_type": "markdown",
      "metadata": {
        "id": "XeGjRtW1gO23"
      },
      "source": [
        "### N-layers backward"
      ]
    },
    {
      "cell_type": "code",
      "metadata": {
        "id": "bTiPeu6xgQWb"
      },
      "source": [
        "def N_layers_backward(prediction, Y, caches):\n",
        "    grads = {} \n",
        "    L = len(caches) \n",
        "    m = prediction.shape[1]\n",
        "    # Shape는 AL과 동일해야함\n",
        "    Y = Y.reshape(prediction.shape) \n",
        "    \n",
        "    # Initializing the backpropagation\n",
        "    dAL = - (np.divide(Y,prediction)- np.divide(1-Y, 1-prediction))\n",
        "    # caches index를 잡아둡니다.\n",
        "    current_cache = caches[L-1] \n",
        "    grads[\"dX\" + str(L-1)], grads[\"dW\" + str(L)], grads[\"db\" + str(L)] = linear_activation_backward(dAL, current_cache, activation=\"sigmoid\")\n",
        "    \n",
        "    for l in reversed(range(L-1)):\n",
        "        # indexing입니다.\n",
        "        current_cache = caches[l]\n",
        "        dX_prev_temp, dW_temp, db_temp = linear_activation_backward(grads[\"dX\"+str(l+1)], current_cache, activation=\"relu\")\n",
        "        grads[\"dX\" + str(l)] = dX_prev_temp\n",
        "        grads[\"dW\" + str(l + 1)] = dW_temp\n",
        "        grads[\"db\" + str(l + 1)] = db_temp\n",
        "    return grads"
      ],
      "execution_count": 99,
      "outputs": []
    },
    {
      "cell_type": "markdown",
      "metadata": {
        "id": "DLdsYknhgQ9T"
      },
      "source": [
        "## Cross-Entropy loss\n",
        "\n",
        "우리는 신경망을 포워드해 예측값 $\\hat{y}$값을 찾을 수 있었다. 우리는 이를 실제 y 레이블과 비교하여 학습을 시켜야한다.가장 대표적인 손실함수는 cross-entropy 함수이다. \n",
        "\n",
        "$$-\\frac{1}{m} \\sum\\limits_{i = 1}^{m} (y^{(i)}\\log\\left(a^{[L] (i)}\\right) + (1-y^{(i)})\\log\\left(1- a^{[L](i)}\\right))$$\n",
        "\n",
        "\n",
        "__Arguments__\n",
        "\n",
        "- prediction: $\\hat{y}$ = (1, number of examples)\n"
      ]
    },
    {
      "cell_type": "code",
      "metadata": {
        "id": "OWJVPrQBgTpz"
      },
      "source": [
        "def cross_entropy_loss(prediction, Y):\n",
        "    m = Y.shape[1]\n",
        "    cost = (-1.0/m)*np.sum(np.multiply(Y,np.log(prediction)) + np.multiply(1-Y, np.log(1-prediction)))\n",
        "    cost = np.squeeze(cost)    \n",
        "    return cost"
      ],
      "execution_count": 100,
      "outputs": []
    },
    {
      "cell_type": "markdown",
      "metadata": {
        "id": "x-5do644gy21"
      },
      "source": [
        "## Update Parameters\n",
        "\n",
        " Learning rate인 $\\alpha$ 에 Gradient를 곱해서 현재의 parameter에 빼준다.\n",
        "\n",
        "$$ W^{[l]} = W^{[l]} - \\alpha \\text{ } dW^{[l]} $$\n",
        "$$ b^{[l]} = b^{[l]} - \\alpha \\text{ } db^{[l]} $$\n"
      ]
    },
    {
      "cell_type": "code",
      "metadata": {
        "id": "-7HYaqQmg07P"
      },
      "source": [
        "def update_parameters(parameters, grads, learning_rate):\n",
        "    L = len(parameters) // 2 \n",
        "    for l in range(L):\n",
        "        parameters[\"W\" + str(l+1)] = parameters[\"W\" + str(l+1)] - learning_rate*grads[\"dW\"+str(l+1)]\n",
        "        parameters[\"b\" + str(l+1)] = parameters[\"b\" + str(l+1)] - learning_rate*grads[\"db\"+str(l+1)]\n",
        "    return parameters"
      ],
      "execution_count": 101,
      "outputs": []
    },
    {
      "cell_type": "markdown",
      "metadata": {
        "id": "im7zu4xMnRlh"
      },
      "source": [
        "# TEST"
      ]
    },
    {
      "cell_type": "code",
      "metadata": {
        "colab": {
          "base_uri": "https://localhost:8080/"
        },
        "id": "jfqjJW_NnSmF",
        "outputId": "45e0b5f3-27d9-432e-c937-c512b352b2a7"
      },
      "source": [
        "# hidden_dims 정의\n",
        "layer_dims = [10,3,4,1] # 마지막은 output layer니까 1\n",
        "\n",
        "# parameter 초기화\n",
        "parameters = initialize_parameters(layer_dims)\n",
        "print([p.shape for p in parameters.values()])\n",
        "parameters"
      ],
      "execution_count": 102,
      "outputs": [
        {
          "output_type": "stream",
          "text": [
            "[(3, 10), (3, 1), (4, 3), (4, 1), (1, 4), (1, 1)]\n"
          ],
          "name": "stdout"
        },
        {
          "output_type": "execute_result",
          "data": {
            "text/plain": [
              "{'W1': array([[ 0.53243065,  0.00305796, -0.69612127, -0.04844105, -0.16577115,\n",
              "         -0.19976574,  0.42064148,  0.00543465,  0.01085197,  0.00489016],\n",
              "        [-0.13175912, -0.4122241 , -0.12556203, -0.03547758, -0.12859427,\n",
              "         -0.31126873, -0.27426719,  0.22951715, -0.73416828,  0.16474125],\n",
              "        [ 0.16523694, -0.01938631,  0.00299674, -0.21583193,  0.02295272,\n",
              "          0.20964523,  0.09126517,  0.74511916,  0.05919713,  0.25924268]]),\n",
              " 'W2': array([[-0.49674039,  0.20180174,  0.16685849],\n",
              "        [ 0.54802751, -0.07481611, -0.86328035],\n",
              "        [-0.33828482,  0.00778318,  0.26607548],\n",
              "        [-0.59093043,  0.5587151 , -0.24957987]]),\n",
              " 'W3': array([[-0.36826909,  0.26995726, -0.12282318, -0.00718011]]),\n",
              " 'b1': array([[0.],\n",
              "        [0.],\n",
              "        [0.]]),\n",
              " 'b2': array([[0.],\n",
              "        [0.],\n",
              "        [0.],\n",
              "        [0.]]),\n",
              " 'b3': array([[0.]])}"
            ]
          },
          "metadata": {
            "tags": []
          },
          "execution_count": 102
        }
      ]
    },
    {
      "cell_type": "code",
      "metadata": {
        "id": "elfD-ltqnabh"
      },
      "source": [
        "# input&label\n",
        "X = np.random.randn(10,4)\n",
        "Y = np.array([[0, 1, 1, 0]]) # 가상 레이블"
      ],
      "execution_count": 103,
      "outputs": []
    },
    {
      "cell_type": "code",
      "metadata": {
        "id": "tRIvnAzsnhwc"
      },
      "source": [
        "# model forward\n",
        "prediction, caches = N_layers_forward(X, parameters)"
      ],
      "execution_count": 104,
      "outputs": []
    },
    {
      "cell_type": "code",
      "metadata": {
        "colab": {
          "base_uri": "https://localhost:8080/"
        },
        "id": "rvUQ9KnPnmh3",
        "outputId": "fd07ddc5-28a3-4700-8ab0-8ed460b2a58f"
      },
      "source": [
        "# loss\n",
        "loss = cross_entropy_loss(prediction, Y)\n",
        "print(\"loss = \" + str(loss))"
      ],
      "execution_count": 105,
      "outputs": [
        {
          "output_type": "stream",
          "text": [
            "loss = 0.7142134287396995\n"
          ],
          "name": "stdout"
        }
      ]
    },
    {
      "cell_type": "code",
      "metadata": {
        "colab": {
          "base_uri": "https://localhost:8080/"
        },
        "id": "ZpwUJ9e6qjAT",
        "outputId": "de304f44-c9f9-4dbe-ddec-90707c6bc18a"
      },
      "source": [
        "# model backward\n",
        "grads = N_layers_backward(prediction, Y, caches)\n",
        "grads"
      ],
      "execution_count": 106,
      "outputs": [
        {
          "output_type": "execute_result",
          "data": {
            "text/plain": [
              "{'dW1': array([[-0.42985543,  0.02934384, -0.53340049, -0.18540024,  0.29553729,\n",
              "          0.13436646,  0.02284437,  0.27726265,  0.45119101, -0.18286423],\n",
              "        [ 0.05323166, -0.059707  , -0.06076259,  0.11169388, -0.15910129,\n",
              "         -0.00974531, -0.27530891,  0.39017389,  0.20109524,  0.28961388],\n",
              "        [-0.13943342, -0.01119068, -0.51052298, -0.41582312,  0.23249993,\n",
              "          0.23993895, -0.46652143,  0.60654381,  1.06237585, -0.21466427]]),\n",
              " 'dW2': array([[0.        , 0.10989209, 0.34788942],\n",
              "        [0.        , 0.        , 0.        ],\n",
              "        [0.09079876, 0.10989209, 0.53764367],\n",
              "        [0.        , 0.        , 0.        ]]),\n",
              " 'dW3': array([[-0.04062438,  0.        , -0.05609834,  0.        ]]),\n",
              " 'dX0': array([[ 0.        ,  0.03347782,  0.69766759,  0.16523694],\n",
              "        [ 0.        , -0.4316104 , -0.01632835, -0.01938631],\n",
              "        [ 0.        , -0.12256529, -0.69312453,  0.00299674],\n",
              "        [ 0.        , -0.25130951, -0.26427298, -0.21583193],\n",
              "        [ 0.        , -0.10564155, -0.14281842,  0.02295272],\n",
              "        [ 0.        , -0.1016235 ,  0.00987948,  0.20964523],\n",
              "        [ 0.        , -0.18300202,  0.51190664,  0.09126517],\n",
              "        [ 0.        ,  0.97463631,  0.75055382,  0.74511916],\n",
              "        [ 0.        , -0.67497115,  0.0700491 ,  0.05919713],\n",
              "        [ 0.        ,  0.42398393,  0.26413284,  0.25924268]]),\n",
              " 'dX1': array([[ 0.        , -0.83502521, -0.33828482, -0.83502521],\n",
              "        [ 0.        ,  0.20958492,  0.00778318,  0.20958492],\n",
              "        [ 0.        ,  0.43293397,  0.26607548,  0.43293397]]),\n",
              " 'dX2': array([[-0.18413454,  0.1986784 ,  0.18502891, -0.18360294],\n",
              "        [ 0.13497863, -0.14563991, -0.13563424,  0.13458894],\n",
              "        [-0.06141159,  0.06626218,  0.06170987, -0.06123429],\n",
              "        [-0.00359006,  0.00387362,  0.00360749, -0.00357969]]),\n",
              " 'db1': array([[0.25],\n",
              "        [0.25],\n",
              "        [0.75]]),\n",
              " 'db2': array([[0.5 ],\n",
              "        [0.  ],\n",
              "        [0.75],\n",
              "        [0.  ]]),\n",
              " 'db3': array([[-0.01084115]])}"
            ]
          },
          "metadata": {
            "tags": []
          },
          "execution_count": 106
        }
      ]
    },
    {
      "cell_type": "code",
      "metadata": {
        "colab": {
          "base_uri": "https://localhost:8080/"
        },
        "id": "Em-Aq0Iwqq_M",
        "outputId": "8e74ec7d-81f3-477b-e6be-769e4fe7118d"
      },
      "source": [
        "parameters = update_parameters(parameters, grads, 0.05)\n",
        "parameters"
      ],
      "execution_count": 107,
      "outputs": [
        {
          "output_type": "execute_result",
          "data": {
            "text/plain": [
              "{'W1': array([[ 0.55392342,  0.00159077, -0.66945124, -0.03917104, -0.18054801,\n",
              "         -0.20648407,  0.41949926, -0.00842848, -0.01170758,  0.01403337],\n",
              "        [-0.1344207 , -0.40923875, -0.1225239 , -0.04106228, -0.12063921,\n",
              "         -0.31078146, -0.26050174,  0.21000845, -0.74422304,  0.15026055],\n",
              "        [ 0.17220861, -0.01882677,  0.02852289, -0.19504078,  0.01132772,\n",
              "          0.19764828,  0.11459124,  0.71479197,  0.00607834,  0.2699759 ]]),\n",
              " 'W2': array([[-0.49674039,  0.19630713,  0.14946402],\n",
              "        [ 0.54802751, -0.07481611, -0.86328035],\n",
              "        [-0.34282476,  0.00228858,  0.2391933 ],\n",
              "        [-0.59093043,  0.5587151 , -0.24957987]]),\n",
              " 'W3': array([[-0.36623787,  0.26995726, -0.12001826, -0.00718011]]),\n",
              " 'b1': array([[-0.0125],\n",
              "        [-0.0125],\n",
              "        [-0.0375]]),\n",
              " 'b2': array([[-0.025 ],\n",
              "        [ 0.    ],\n",
              "        [-0.0375],\n",
              "        [ 0.    ]]),\n",
              " 'b3': array([[0.00054206]])}"
            ]
          },
          "metadata": {
            "tags": []
          },
          "execution_count": 107
        }
      ]
    },
    {
      "cell_type": "code",
      "metadata": {
        "id": "a51ydsFPq2il"
      },
      "source": [
        ""
      ],
      "execution_count": null,
      "outputs": []
    }
  ]
}